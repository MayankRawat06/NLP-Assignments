{
  "cells": [
    {
      "cell_type": "code",
      "source": [
        "import seaborn as sns\n",
        "import numpy as np\n",
        "import pandas as pd\n",
        "import matplotlib.pyplot as plt\n",
        "import nltk"
      ],
      "metadata": {
        "id": "x-_XEM1VPK13"
      },
      "id": "x-_XEM1VPK13",
      "execution_count": 3,
      "outputs": []
    },
    {
      "cell_type": "markdown",
      "id": "e808f187",
      "metadata": {
        "id": "e808f187"
      },
      "source": [
        "### Install a Few Additional Packages\n",
        "\n",
        "There are a few additional packages we'll be using during the tutorial that are not included when you download Anaconda - wordcloud, textblob and gensim.\n",
        "\n",
        "Open the Anaconda Prompt program. You should see a black window pop up. Type `conda install -c conda-forge wordcloud` to download wordcloud. You will be asked whether you want to proceed or not. Type `y` for yes. Once that is done, type `conda install -c conda-forge textblob` to download textblob and `y` to proceed, and type `conda install -c conda-forge gensim` to download gensim and `y` to proceed."
      ]
    },
    {
      "cell_type": "markdown",
      "id": "e7dfc4bf",
      "metadata": {
        "id": "e7dfc4bf"
      },
      "source": [
        "|  |  |  |\n",
        "| --- | --- | --- |\n",
        "| Programming | Data | pandas, sklearn, re, nltk |\n",
        "| | NLP| TextBlob, gensim |         \n",
        "| Mathemetics & Statistics |Clean | corpus, document-term matrix |\n",
        "| | EDA | word counts |\n",
        "| | NLP | sentiment analysis,topic modeling, text generation |\n",
        "| Communication | Design | scope, visualize, extract insights|\n",
        "|| Domain | expertise |\n"
      ]
    },
    {
      "cell_type": "markdown",
      "id": "94aef0c1",
      "metadata": {
        "id": "94aef0c1"
      },
      "source": [
        "For NLP through Python(or any other programming) you need sets of skill:\n",
        "1. Programming\n",
        "2. Maths & stats\n",
        "3. Communication\n",
        "\n",
        "We will go through over all three types of skills. \n",
        "In programming set of skill, we will use some Python libraries. For data analysis pandas will be used, we also need regular expression for text data. scikit-learn a great tool for data science has a lot of machine learnin tools. We will use it ot format some of our data.  Some couple of NLP libraries like NLTK natural language tool, textBlob built on NLTK and gensim for topic modeling. These are set of skill you require from Python.\n",
        "\n",
        "You need to understand concepts for interpritation of results. You need to clean raw data  and put in appropriate format for further processing. So the raw text data is general corpus format, then document term metrix. You need to do some exploratory data analysis(EDA) that generate and use word counts. Then three NLP skill sentiment analysis, topic modeling and text generation. Then finally there's this communication piece and usually all the soft skills. It has two parts. There is a design piece which is all about how you design a project and this is so important whenever I advise my students I find that this is where they struggle the most. So, just figuring out if you have a question like where to start, how do you scope out your project, what insights can you draw from that data, what visualizations can you make to communicate things more effectively. So, that's all about design. Then finally having some type of domain expertise is really important. \n"
      ]
    },
    {
      "cell_type": "markdown",
      "id": "1b25ad88",
      "metadata": {
        "id": "1b25ad88"
      },
      "source": [
        "# Data Science Workflow\n",
        "\n",
        "NLP is a sub-domain of Data Science, so, start with introduction to general workflow in Data Science.\n",
        "1. Start with a Question\n",
        "2. Get & Clean the Data\n",
        "3. Perform EDA\n",
        "4. Apply Techniques\n",
        "5. Share Insights\n"
      ]
    },
    {
      "cell_type": "markdown",
      "id": "ae048a86",
      "metadata": {
        "id": "ae048a86"
      },
      "source": [
        "# A simple example"
      ]
    },
    {
      "cell_type": "markdown",
      "id": "4570f66a",
      "metadata": {
        "id": "4570f66a"
      },
      "source": [
        "### 1. Start with a Question\n",
        "\"If I study more, will I get a higher grade?\"\n",
        " \n",
        " Now, what data is required to answer this question?\n",
        " ->studies hours and grade of some students!\n",
        " \n",
        " | Student | Studied hours | Grade |\n",
        " | --- | --- | --- | \n",
        " | Naman | 25 | 10 |\n",
        " | Ankit | 7 | 7 |\n",
        " | Palak | Ten | 8 |\n",
        " | Ramu | 15 | 101 |"
      ]
    },
    {
      "cell_type": "markdown",
      "id": "1f41ec52",
      "metadata": {
        "id": "1f41ec52"
      },
      "source": [
        "#### Assignment: \n",
        "1. Clean the data manualy.\n",
        "2. Add more row to above data and share with your friend. Your friend will clean it."
      ]
    },
    {
      "cell_type": "markdown",
      "id": "3ccf6464",
      "metadata": {
        "id": "3ccf6464"
      },
      "source": [
        "### 2.  Get and Clean the data\n",
        "| Student | Studied hours | Grade |\n",
        " | --- | --- | --- | \n",
        " | Naman | 25 | 10 |\n",
        " | Ankit | 7 | 7 |\n",
        " | Palak | 10 | 8 |\n",
        " | Ramu | 15 | 10 |"
      ]
    },
    {
      "cell_type": "markdown",
      "id": "d04ad54a",
      "metadata": {
        "id": "d04ad54a"
      },
      "source": [
        "### 3. Perform EDA\n",
        "#### Assignment: \n",
        "1. Perform EDA on cleaned data.(Hint plot the data) \n",
        "2. Write atleat two observation from EDA."
      ]
    },
    {
      "cell_type": "code",
      "execution_count": 17,
      "id": "798656bf",
      "metadata": {
        "scrolled": true,
        "colab": {
          "base_uri": "https://localhost:8080/",
          "height": 282
        },
        "id": "798656bf",
        "outputId": "a993670d-4d8c-4701-8153-1bca9f05eb8f"
      },
      "outputs": [
        {
          "output_type": "execute_result",
          "data": {
            "text/plain": [
              "<matplotlib.collections.PathCollection at 0x7f7400a36400>"
            ]
          },
          "metadata": {},
          "execution_count": 17
        },
        {
          "output_type": "display_data",
          "data": {
            "text/plain": [
              "<Figure size 432x288 with 1 Axes>"
            ],
            "image/png": "[encoded data removed]"
          },
          "metadata": {
            "needs_background": "light"
          }
        }
      ],
      "source": [
        "import matplotlib.pyplot as plt\n",
        "studied_hours=[25, 7, 10, 15, 20, 22] #Try to import the data from \n",
        "grade=[10, 7, 8, 10, 9, 10]          # text file containing the data in same format.\n",
        "plt.scatter(grade, studied_hours)"
      ]
    },
    {
      "cell_type": "markdown",
      "id": "85a2b8f5",
      "metadata": {
        "id": "85a2b8f5"
      },
      "source": [
        "### 4. Apply Techniques\n",
        "#### Assignment: \n",
        "1. Apply a machine learning or data science technique to encode your observation in EDA. (Hint: which type of realtion is associated between hours of study and grade)"
      ]
    },
    {
      "cell_type": "code",
      "source": [
        "d = {'studied_hours': studied_hours, 'grade': grade}\n",
        "df = pd.DataFrame(data = d)"
      ],
      "metadata": {
        "id": "Z1oVICmdQO32"
      },
      "id": "Z1oVICmdQO32",
      "execution_count": 18,
      "outputs": []
    },
    {
      "cell_type": "code",
      "source": [
        "plt.figure(figsize=(10,5))\n",
        "corr = df.corr()\n",
        "sns.heatmap(corr, annot=True, cmap=\"YlGnBu\")"
      ],
      "metadata": {
        "colab": {
          "base_uri": "https://localhost:8080/",
          "height": 342
        },
        "id": "KRTAtaf9ODgm",
        "outputId": "8ebfb5b7-f4fa-45f3-e9c4-c7eadd03ef5b"
      },
      "id": "KRTAtaf9ODgm",
      "execution_count": 19,
      "outputs": [
        {
          "output_type": "execute_result",
          "data": {
            "text/plain": [
              "<matplotlib.axes._subplots.AxesSubplot at 0x7f7400975be0>"
            ]
          },
          "metadata": {},
          "execution_count": 19
        },
        {
          "output_type": "display_data",
          "data": {
            "text/plain": [
              "<Figure size 720x360 with 2 Axes>"
            ],
            "image/png": "[encoded data removed]"
          },
          "metadata": {
            "needs_background": "light"
          }
        }
      ]
    },
    {
      "cell_type": "markdown",
      "source": [
        "Grade and Studied Hours are significantly correlated"
      ],
      "metadata": {
        "id": "0dIIQ_d2Rrgk"
      },
      "id": "0dIIQ_d2Rrgk"
    },
    {
      "cell_type": "markdown",
      "id": "58113c62",
      "metadata": {
        "id": "58113c62"
      },
      "source": [
        "### 5. Share Insights\n",
        "#### Assignment:\n",
        "1. Is there any relation between the number of hours you study and the grade you will get? Represent the relation using graph.\n",
        "2. What is the speciffic mathemetical relationship between number of hours you study and the grade?\n",
        "3. Is there any abnormality? What conclusion you drown about abnormal data? \n",
        "\n",
        "\n"
      ]
    },
    {
      "cell_type": "code",
      "source": [
        "plt.plot(df.studied_hours, df.grade)\n",
        "plt.title('Grade vs Studied hours')\n",
        "plt.xlabel('Studied hours')\n",
        "plt.ylabel('Grade')"
      ],
      "metadata": {
        "colab": {
          "base_uri": "https://localhost:8080/",
          "height": 312
        },
        "id": "Y8zPPkdmSgA5",
        "outputId": "7a40046a-2fcf-490a-e935-22554e345ccb"
      },
      "id": "Y8zPPkdmSgA5",
      "execution_count": 20,
      "outputs": [
        {
          "output_type": "execute_result",
          "data": {
            "text/plain": [
              "Text(0, 0.5, 'Grade')"
            ]
          },
          "metadata": {},
          "execution_count": 20
        },
        {
          "output_type": "display_data",
          "data": {
            "text/plain": [
              "<Figure size 432x288 with 1 Axes>"
            ],
            "image/png": "[encoded data removed]"
          },
          "metadata": {
            "needs_background": "light"
          }
        }
      ]
    },
    {
      "cell_type": "markdown",
      "source": [
        "Student studying 15 hours also got grade 10, student studying 20 hours got grade 9"
      ],
      "metadata": {
        "id": "yFR6Z7-EUFD2"
      },
      "id": "yFR6Z7-EUFD2"
    }
  ],
  "metadata": {
    "kernelspec": {
      "display_name": "Python 3",
      "language": "python",
      "name": "python3"
    },
    "language_info": {
      "codemirror_mode": {
        "name": "ipython",
        "version": 3
      },
      "file_extension": ".py",
      "mimetype": "text/x-python",
      "name": "python",
      "nbconvert_exporter": "python",
      "pygments_lexer": "ipython3",
      "version": "3.11.1"
    },
    "vscode": {
      "interpreter": {
        "hash": "949777d72b0d2535278d3dc13498b2535136f6dfe0678499012e853ee9abcab1"
      }
    },
    "colab": {
      "provenance": []
    }
  },
  "nbformat": 4,
  "nbformat_minor": 5
}